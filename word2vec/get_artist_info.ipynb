{
 "cells": [
  {
   "cell_type": "markdown",
   "id": "064d0f90",
   "metadata": {},
   "source": [
    "Spotify에서 id값을 이용해 artist의 데이터를 가져옴"
   ]
  },
  {
   "cell_type": "code",
   "execution_count": null,
   "id": "33995734",
   "metadata": {},
   "outputs": [],
   "source": [
    "import spotipy\n",
    "import argparse\n",
    "import logging\n",
    "import json\n",
    "from spotipy.oauth2 import SpotifyOAuth\n",
    "from tqdm import tqdm\n",
    "import time\n",
    "import random"
   ]
  },
  {
   "cell_type": "code",
   "execution_count": null,
   "id": "c7832921",
   "metadata": {},
   "outputs": [],
   "source": [
    "# artist_id 값을 이용해 해당 아티스트의 데이터 획득\n",
    "def get_artist_info(index, dict_row, data):\n",
    "    # API rate limit으로 인해 속도 제한\n",
    "    time.sleep(random.randrange(25,40)/10)\n",
    "    \n",
    "    raw = sp.artist(dict_row['artist_id'])\n",
    "    result = {\n",
    "        'artist_id': raw['id'],\n",
    "        'artist_name': raw['name'],\n",
    "        'total_followers': raw['followers']['total'],\n",
    "        'popularity': raw['popularity'],\n",
    "        'genres': raw['genres'],\n",
    "        'related_artists': [],\n",
    "        'did_fetch_related': False\n",
    "    }\n",
    "    \n",
    "    data[index].update(result)\n",
    "    return data"
   ]
  },
  {
   "cell_type": "code",
   "execution_count": null,
   "id": "b86b8b4b",
   "metadata": {},
   "outputs": [],
   "source": [
    "# artist_id를 이용해 해당 아티스트의 관련 아티스트 획득\n",
    "def get_related_artists(index, dict_row, data):\n",
    "    # API rate limit으로 인해 속도 제한\n",
    "    time.sleep(random.randrange(25,40)/10)\n",
    "    \n",
    "    res = sp.artist_related_artists(dict_row['artist_id'])\n",
    "    artists = res['artists'] # artists는 artist 정보를 가진 배열이 됨\n",
    "\n",
    "    related_arr = []\n",
    "    for artist in artists: # 우선 row에 relate_artists 배열을 채워줌\n",
    "        related_arr.append(artist['id'])\n",
    "    \n",
    "    data[index].update({'related_artists': related_arr, 'did_fetch_related': True})\n",
    "        \n",
    "    \n",
    "    for artist in artists: # artists의 길이만큼 반복\n",
    "        is_exist = False\n",
    "        tmp = {\n",
    "            'artist_id': artist['id'],\n",
    "            'artist_name': artist['name'],\n",
    "            'total_followers': artist['followers']['total'],\n",
    "            'popularity': artist['popularity'],\n",
    "            'genres': artist['genres'],\n",
    "            'related_artists': [],\n",
    "            'did_fetch_related': False\n",
    "        }\n",
    "        for idx, d in enumerate(data): # data를 다 돌면서 이미 있는 id인지 확인\n",
    "            # 중복되는 id 값이 있는지 확인\n",
    "            if d['artist_id'] == artist['id']:\n",
    "                # 있으면 그 row가 genres 갖고있는지 확인\n",
    "                is_exist = True\n",
    "                if 'genres' in d:\n",
    "                    # 장르 데이터가 있으면 패스\n",
    "                    break\n",
    "                else:\n",
    "                    # 장르 데이터가 없으면 업데이트 해줌\n",
    "                    data[idx].update(tmp)  \n",
    "                    break\n",
    "        \n",
    "        # 중복되는 id값이 없으면 json 만들어서 append\n",
    "        if is_exist == False:\n",
    "            data.append(tmp)\n",
    "                    \n",
    "    return data"
   ]
  },
  {
   "cell_type": "code",
   "execution_count": null,
   "id": "fc1ea56c",
   "metadata": {},
   "outputs": [],
   "source": [
    "def fetch_data(data):\n",
    "    limit = len(data)\n",
    "    pbar = tqdm(data)\n",
    "    \n",
    "    for idx, d in enumerate(pbar):\n",
    "        \n",
    "        # artist detail 확인\n",
    "        if 'popularity' in d:\n",
    "            \n",
    "            if d['popularity'] < 45:\n",
    "                #break\n",
    "                continue\n",
    "            else:\n",
    "                pbar.set_description(f\"{d['artist_name']}\") # 진행도 확인\n",
    "                if 'did_fetch_related' in d:\n",
    "                    if d['did_fetch_related'] == True:\n",
    "                        continue # related까지 가져왔으면 pass\n",
    "\n",
    "                    else:\n",
    "                        if 'genres' in d:\n",
    "                            # 장르가 있고 relate 없으면 relate fetch만\n",
    "                            data = get_related_artists(idx, d, data)\n",
    "\n",
    "                        else:\n",
    "                            # 장르 데이터도 없고 relate가 없으면 info fetch 하고 relate fetch 둘다 진행\n",
    "                            data = get_artist_info(idx, d, data)\n",
    "                            data = get_related_artists(idx, d, data)\n",
    "\n",
    "                else:\n",
    "                    if 'genres' in d:\n",
    "                        # 장르가 있고 relate 없으면 relate fetch만\n",
    "                        data = get_related_artists(idx, d, data)\n",
    "\n",
    "                    else:\n",
    "                        # 장르 데이터도 없고 relate가 없으면 info fetch 하고 relate fetch 둘다 진행\n",
    "                        data = get_artist_info(idx, d, data)\n",
    "                        data = get_related_artists(idx, d, data)\n",
    "\n",
    "                if idx >= limit:\n",
    "                    print('인덱스가 너무 커져서 브레이크')\n",
    "                    break\n",
    "        else:\n",
    "            data = get_artist_info(idx, d, data)\n",
    "            data = get_related_artists(idx, d, data)\n",
    "\n",
    "    return data"
   ]
  },
  {
   "cell_type": "code",
   "execution_count": null,
   "id": "f8648705",
   "metadata": {},
   "outputs": [],
   "source": [
    "file_path = \"./dataset/spotify_dataset.json\"\n",
    "\n",
    "with open(file_path, 'r') as file:\n",
    "    data = json.load(file)"
   ]
  },
  {
   "cell_type": "code",
   "execution_count": null,
   "id": "15f98cb8",
   "metadata": {},
   "outputs": [],
   "source": [
    "with open(\"./config.json\", 'r') as file:\n",
    "    config = json.load(file)"
   ]
  },
  {
   "cell_type": "code",
   "execution_count": null,
   "id": "2a12e66f",
   "metadata": {},
   "outputs": [],
   "source": [
    "sp = spotipy.Spotify(auth_manager=SpotifyOAuth(client_id=config['spotify_client_id'],\n",
    "                                               client_secret=config['spotify_client_secret'],\n",
    "                                               redirect_uri=config['spotify_redirect_uri'],\n",
    "                                               scope=config['spotify_scope']))"
   ]
  },
  {
   "cell_type": "code",
   "execution_count": null,
   "id": "d8e49101",
   "metadata": {},
   "outputs": [],
   "source": [
    "try:\n",
    "    data = fetch_data(data)\n",
    "    \n",
    "except:\n",
    "    print('저장')\n",
    "    with open(\"./dataset/spotify_dataset.json\", \"w\") as new_file:\n",
    "        json.dump(data, new_file)\n",
    "    fetch_data(data)"
   ]
  },
  {
   "cell_type": "code",
   "execution_count": null,
   "id": "cbc20bd5",
   "metadata": {},
   "outputs": [],
   "source": [
    "with open(\"./dataset/spotify_dataset.json\", \"w\") as new_file:\n",
    "    json.dump(data, new_file) "
   ]
  }
 ],
 "metadata": {
  "kernelspec": {
   "display_name": "Python 3 (ipykernel)",
   "language": "python",
   "name": "python3"
  },
  "language_info": {
   "codemirror_mode": {
    "name": "ipython",
    "version": 3
   },
   "file_extension": ".py",
   "mimetype": "text/x-python",
   "name": "python",
   "nbconvert_exporter": "python",
   "pygments_lexer": "ipython3",
   "version": "3.9.0"
  }
 },
 "nbformat": 4,
 "nbformat_minor": 5
}
