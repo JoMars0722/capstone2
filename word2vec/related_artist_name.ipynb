{
 "cells": [
  {
   "cell_type": "markdown",
   "id": "bd9beb6c",
   "metadata": {},
   "source": [
    "스포티파이에서 가져온 artist 정보를 담은 json을 기반으로{artist_id - related_artists[]} 출력"
   ]
  },
  {
   "cell_type": "code",
   "execution_count": 1,
   "id": "e01776ff",
   "metadata": {},
   "outputs": [],
   "source": [
    "import json\n",
    "from tqdm import tqdm"
   ]
  },
  {
   "cell_type": "code",
   "execution_count": 2,
   "id": "afd1a443",
   "metadata": {},
   "outputs": [],
   "source": [
    "file_path = \"./dataset/spotify_dataset.json\"\n",
    "\n",
    "with open(file_path, 'r') as file:\n",
    "    data = json.load(file)"
   ]
  },
  {
   "cell_type": "code",
   "execution_count": 11,
   "id": "9ac8e9fd",
   "metadata": {
    "scrolled": false
   },
   "outputs": [
    {
     "name": "stderr",
     "output_type": "stream",
     "text": [
      "100%|███████████████████████████████| 121171/121171 [00:00<00:00, 458697.82it/s]\n"
     ]
    }
   ],
   "source": [
    "related_id_json = []\n",
    "\n",
    "for idx, d in enumerate(tqdm(data)):\n",
    "    if 'related_artists' in d and len(d['related_artists']) > 0:\n",
    "        related_id_json.append({'artist_id': d['artist_id'], 'related_artists' : d['related_artists']})"
   ]
  },
  {
   "cell_type": "code",
   "execution_count": 13,
   "id": "1132ef4c",
   "metadata": {},
   "outputs": [],
   "source": [
    "# dataset 디렉토리의 related_artists.json으로 저장\n",
    "with open(\"./dataset/related_artists.json\", \"w\") as new_file:\n",
    "    json.dump(related_id_json, new_file)"
   ]
  }
 ],
 "metadata": {
  "kernelspec": {
   "display_name": "Python 3 (ipykernel)",
   "language": "python",
   "name": "python3"
  },
  "language_info": {
   "codemirror_mode": {
    "name": "ipython",
    "version": 3
   },
   "file_extension": ".py",
   "mimetype": "text/x-python",
   "name": "python",
   "nbconvert_exporter": "python",
   "pygments_lexer": "ipython3",
   "version": "3.9.0"
  }
 },
 "nbformat": 4,
 "nbformat_minor": 5
}
