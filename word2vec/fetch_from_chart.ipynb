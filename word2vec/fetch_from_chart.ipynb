{
 "cells": [
  {
   "cell_type": "markdown",
   "id": "3b389c08",
   "metadata": {},
   "source": [
    "글로벌 및 71개국 daily chart 데이터에서 artist_name과 artist_id를 가져옴"
   ]
  },
  {
   "cell_type": "code",
   "execution_count": 1,
   "id": "2bd404bc",
   "metadata": {},
   "outputs": [],
   "source": [
    "import requests\n",
    "from bs4 import BeautifulSoup as bs\n",
    "import re\n",
    "import json\n",
    "from tqdm import tqdm"
   ]
  },
  {
   "cell_type": "code",
   "execution_count": 3,
   "id": "f3ac1684",
   "metadata": {},
   "outputs": [],
   "source": [
    "# 단일 element에서 id, name 뽑아서 입력으로 받은 data에 한줄씩 append하고 리턴\n",
    "def parse_artist(element, data):\n",
    "    m_id = re.search('artist/(.+?).html\">', str(element))\n",
    "    \n",
    "    if m_id:\n",
    "        artist_id = m_id.group(1)\n",
    "    \n",
    "    m_name = re.search('.html\">(.+?)</a>', str(element))\n",
    "    if m_name:\n",
    "        artist_name = m_name.group(1)\n",
    "    \n",
    "    jsn = {\n",
    "        'artist_id': artist_id,\n",
    "        'artist_name': artist_name\n",
    "    }\n",
    "    data.append(jsn)\n",
    "    \n",
    "    return data"
   ]
  },
  {
   "cell_type": "code",
   "execution_count": 4,
   "id": "ae835d2f",
   "metadata": {},
   "outputs": [],
   "source": [
    "# elements에서 json으로\n",
    "def elements_to_json(elements, data):\n",
    "    for idx, e in enumerate(elements):\n",
    "        data = parse_artist(e, data)\n",
    "    \n",
    "    return data"
   ]
  },
  {
   "cell_type": "code",
   "execution_count": 5,
   "id": "e8df49d5",
   "metadata": {},
   "outputs": [],
   "source": [
    "# html에서 elements 뽑아서 리턴\n",
    "def get_element(html, data):\n",
    "    page = requests.get(html)\n",
    "    soup = bs(page.text, \"html.parser\")\n",
    "    elements = soup.find_all(attrs=\"text mp\")\n",
    "    \n",
    "    data = elements_to_json(elements, data)\n",
    "    \n",
    "    return data"
   ]
  },
  {
   "cell_type": "code",
   "execution_count": 2,
   "id": "ad7a4b82",
   "metadata": {},
   "outputs": [],
   "source": [
    "# 글로벌 + 71개국 daily chart 데이터\n",
    "htmls = ['https://kworb.net/spotify/country/global_daily_totals.html',    'https://kworb.net/spotify/country/us_daily_totals.html',    'https://kworb.net/spotify/country/gb_daily_totals.html',    'https://kworb.net/spotify/country/ad_daily_totals.html',    'https://kworb.net/spotify/country/ar_daily_totals.html',    'https://kworb.net/spotify/country/au_daily_totals.html',    'https://kworb.net/spotify/country/at_daily_totals.html',    'https://kworb.net/spotify/country/be_daily_totals.html',    'https://kworb.net/spotify/country/bo_daily_totals.html',    'https://kworb.net/spotify/country/br_daily_totals.html',    'https://kworb.net/spotify/country/bg_daily_totals.html',    'https://kworb.net/spotify/country/ca_daily_totals.html',    'https://kworb.net/spotify/country/cl_daily_totals.html',    'https://kworb.net/spotify/country/co_daily_totals.html',    'https://kworb.net/spotify/country/cr_daily_totals.html',    'https://kworb.net/spotify/country/cy_daily_totals.html',    'https://kworb.net/spotify/country/cz_daily_totals.html',    'https://kworb.net/spotify/country/dk_daily_totals.html',    'https://kworb.net/spotify/country/do_daily_totals.html',    'https://kworb.net/spotify/country/ec_daily_totals.html',    'https://kworb.net/spotify/country/eg_daily_totals.html',    'https://kworb.net/spotify/country/sv_daily_totals.html',    'https://kworb.net/spotify/country/ee_daily_totals.html',    'https://kworb.net/spotify/country/fi_daily_totals.html',    'https://kworb.net/spotify/country/fr_daily_totals.html',    'https://kworb.net/spotify/country/de_daily_totals.html',    'https://kworb.net/spotify/country/gr_daily_totals.html',    'https://kworb.net/spotify/country/gt_daily_totals.html',    'https://kworb.net/spotify/country/hn_daily_totals.html',    'https://kworb.net/spotify/country/hk_daily_totals.html',    'https://kworb.net/spotify/country/hu_daily_totals.html',    'https://kworb.net/spotify/country/is_daily_totals.html',    'https://kworb.net/spotify/country/in_daily_totals.html',    'https://kworb.net/spotify/country/id_daily_totals.html',    'https://kworb.net/spotify/country/ie_daily_totals.html',    'https://kworb.net/spotify/country/il_daily_totals.html',    'https://kworb.net/spotify/country/it_daily_totals.html',    'https://kworb.net/spotify/country/jp_daily_totals.html',    'https://kworb.net/spotify/country/lv_daily_totals.html',    'https://kworb.net/spotify/country/lt_daily_totals.html',    'https://kworb.net/spotify/country/lu_daily_totals.html',    'https://kworb.net/spotify/country/my_daily_totals.html',    'https://kworb.net/spotify/country/mt_daily_totals.html',    'https://kworb.net/spotify/country/mx_daily_totals.html',    'https://kworb.net/spotify/country/ma_daily_totals.html',    'https://kworb.net/spotify/country/nl_daily_totals.html',    'https://kworb.net/spotify/country/nz_daily_totals.html',    'https://kworb.net/spotify/country/ni_daily_totals.html',    'https://kworb.net/spotify/country/no_daily_totals.html',    'https://kworb.net/spotify/country/pa_daily_totals.html','https://kworb.net/spotify/country/py_daily_totals.html','https://kworb.net/spotify/country/pe_daily_totals.html','https://kworb.net/spotify/country/ph_daily_totals.html','https://kworb.net/spotify/country/pl_daily_totals.html','https://kworb.net/spotify/country/pt_daily_totals.html','https://kworb.net/spotify/country/ro_daily_totals.html','https://kworb.net/spotify/country/ru_daily_totals.html','https://kworb.net/spotify/country/sa_daily_totals.html','https://kworb.net/spotify/country/sg_daily_totals.html','https://kworb.net/spotify/country/sk_daily_totals.html','https://kworb.net/spotify/country/za_daily_totals.html','https://kworb.net/spotify/country/kr_daily_totals.html','https://kworb.net/spotify/country/es_daily_totals.html','https://kworb.net/spotify/country/se_daily_totals.html','https://kworb.net/spotify/country/ch_daily_totals.html','https://kworb.net/spotify/country/tw_daily_totals.html','https://kworb.net/spotify/country/th_daily_totals.html','https://kworb.net/spotify/country/tr_daily_totals.html','https://kworb.net/spotify/country/ua_daily_totals.html','https://kworb.net/spotify/country/ae_daily_totals.html', 'https://kworb.net/spotify/country/uy_daily_totals.html', 'https://kworb.net/spotify/country/vn_daily_totals.html',]"
   ]
  },
  {
   "cell_type": "code",
   "execution_count": 7,
   "id": "e3bb7cb7",
   "metadata": {},
   "outputs": [
    {
     "name": "stderr",
     "output_type": "stream",
     "text": [
      "100%|███████████████████████████████████████████| 72/72 [13:00<00:00, 10.84s/it]\n"
     ]
    }
   ],
   "source": [
    "data = []\n",
    "\n",
    "for html in tqdm(htmls):\n",
    "    data = get_element(html, data)    "
   ]
  },
  {
   "cell_type": "code",
   "execution_count": 11,
   "id": "414dec88",
   "metadata": {},
   "outputs": [
    {
     "name": "stdout",
     "output_type": "stream",
     "text": [
      "443487\n",
      "28593\n"
     ]
    }
   ],
   "source": [
    "# 중복된 artist 제거 => 28,593명의 아티스트 id 확보\n",
    "result = list(map(dict, set(tuple(sorted(d.items())) for d in data)))"
   ]
  },
  {
   "cell_type": "code",
   "execution_count": 12,
   "id": "da9e337a",
   "metadata": {},
   "outputs": [],
   "source": [
    "# chart_dataset.json으로 저장\n",
    "file_path = \"./dataset/chart_dataset.json\"\n",
    "\n",
    "with open(file_path, 'w') as file:\n",
    "    json.dump(result, file)"
   ]
  }
 ],
 "metadata": {
  "kernelspec": {
   "display_name": "Python 3 (ipykernel)",
   "language": "python",
   "name": "python3"
  },
  "language_info": {
   "codemirror_mode": {
    "name": "ipython",
    "version": 3
   },
   "file_extension": ".py",
   "mimetype": "text/x-python",
   "name": "python",
   "nbconvert_exporter": "python",
   "pygments_lexer": "ipython3",
   "version": "3.9.0"
  }
 },
 "nbformat": 4,
 "nbformat_minor": 5
}
