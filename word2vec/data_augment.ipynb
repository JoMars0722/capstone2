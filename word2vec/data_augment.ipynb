{
 "cells": [
  {
   "cell_type": "markdown",
   "id": "2d29c0a3",
   "metadata": {},
   "source": [
    "related_artists.json을 활용해 데이터 증강을 진행\n",
    "1. related_artists.json을 불러옴\n",
    "2. 해당 json을 root artist를 포함한 문장들로 만듬\n",
    "3. 배열별로 각각 artist의 장르를 가져와서 새로운 문장들을 만듬\n",
    "4. 중복 제거하고 장르의 count순으로 정렬\n",
    "5. 중앙 정렬해서 최종 문장으로 만듬"
   ]
  },
  {
   "cell_type": "code",
   "execution_count": null,
   "id": "01e243de",
   "metadata": {},
   "outputs": [],
   "source": [
    "import argparse\n",
    "import logging\n",
    "import json\n",
    "from tqdm import tqdm\n",
    "import time\n",
    "import random\n",
    "import math\n",
    "import pickle"
   ]
  },
  {
   "cell_type": "code",
   "execution_count": null,
   "id": "155d2d72",
   "metadata": {},
   "outputs": [],
   "source": [
    "file_path = \"./dataset/spotify_dataset.json\"\n",
    "\n",
    "with open(file_path, 'r') as file:\n",
    "    origin_data = json.load(file)"
   ]
  },
  {
   "cell_type": "code",
   "execution_count": null,
   "id": "9e21c43f",
   "metadata": {},
   "outputs": [],
   "source": [
    "file_path = \"./dataset/related_artists.json\"\n",
    "\n",
    "with open(file_path, 'r') as file:\n",
    "    related_data = json.load(file)"
   ]
  },
  {
   "cell_type": "code",
   "execution_count": null,
   "id": "521383b1",
   "metadata": {},
   "outputs": [],
   "source": [
    "file_path = \"./dataset/genre_artists.json\"\n",
    "\n",
    "with open(file_path, 'r') as file:\n",
    "    genre_artists_json = json.load(file)"
   ]
  },
  {
   "cell_type": "code",
   "execution_count": null,
   "id": "b9d10ed8",
   "metadata": {},
   "outputs": [],
   "source": [
    "def center_align(arr):\n",
    "    aligned_arr = ['0' for i in range(len(arr))]\n",
    "    center = int((len(arr))/2)\n",
    "    \n",
    "    for i in range(len(arr)):\n",
    "        aligned_arr[center + ((-1)**i) * math.ceil(i/2)] = arr[i]\n",
    "    \n",
    "    return aligned_arr"
   ]
  },
  {
   "cell_type": "code",
   "execution_count": null,
   "id": "7d311700",
   "metadata": {},
   "outputs": [],
   "source": [
    "def get_artist_genre(artist_id, origin_data):\n",
    "    for d in origin_data:\n",
    "        if d['artist_id'] == artist_id:\n",
    "            return d['genres']"
   ]
  },
  {
   "cell_type": "code",
   "execution_count": null,
   "id": "037b0402",
   "metadata": {},
   "outputs": [],
   "source": [
    "# 장르가 들어있는 1차원 배열을 입력하면 카운트 순으로 중앙 정렬\n",
    "def get_center_aligned_list(genres, genre_artists_json):\n",
    "    tmp_arr = []\n",
    "    \n",
    "    for g in genres:\n",
    "        for d in genre_artists_json:\n",
    "            if g == d['genre']:\n",
    "                tmp_arr.append([g, d['count']])\n",
    "                break\n",
    "    \n",
    "    tmp_arr.sort(key=lambda x:-x[1])\n",
    "    tmp_sorted_arr = []\n",
    "    for t in tmp_arr:\n",
    "        tmp_sorted_arr.append(t[0])\n",
    "    \n",
    "    return center_align(tmp_sorted_arr)"
   ]
  },
  {
   "cell_type": "code",
   "execution_count": null,
   "id": "a24069c2",
   "metadata": {
    "scrolled": true
   },
   "outputs": [],
   "source": [
    "genre_sentences = []\n",
    "\n",
    "for idx, d in enumerate(tqdm(related_data)):\n",
    "    tmp_sentence = get_artist_genre(d['artist_id'], origin_data)\n",
    "    \n",
    "    for artist in d['related_artists']:\n",
    "        tmp_sentence = tmp_sentence + get_artist_genre(artist, origin_data)\n",
    "    \n",
    "    #중복 제거\n",
    "    tmp_sentence = list(set(tmp_sentence))\n",
    "    \n",
    "    tmp_aligned_list = get_center_aligned_list(tmp_sentence, genre_artists_json)\n",
    "    genre_sentences.append(tmp_aligned_list)\n",
    "    "
   ]
  },
  {
   "cell_type": "code",
   "execution_count": null,
   "id": "425de46b",
   "metadata": {},
   "outputs": [],
   "source": [
    "# genre_sentences를 저장\n",
    "with open('./dataset/augmented_genre_sentences.pkl','wb') as f:\n",
    "    pickle.dump(genre_sentences, f)"
   ]
  }
 ],
 "metadata": {
  "kernelspec": {
   "display_name": "Python 3 (ipykernel)",
   "language": "python",
   "name": "python3"
  },
  "language_info": {
   "codemirror_mode": {
    "name": "ipython",
    "version": 3
   },
   "file_extension": ".py",
   "mimetype": "text/x-python",
   "name": "python",
   "nbconvert_exporter": "python",
   "pygments_lexer": "ipython3",
   "version": "3.9.0"
  }
 },
 "nbformat": 4,
 "nbformat_minor": 5
}
