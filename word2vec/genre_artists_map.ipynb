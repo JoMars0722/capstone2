{
 "cells": [
  {
   "cell_type": "markdown",
   "id": "6ce10503",
   "metadata": {},
   "source": [
    "spotify에서 획득한 데이터를 기반으로 genre와 해당 장르의 아티스트를 연결"
   ]
  },
  {
   "cell_type": "code",
   "execution_count": null,
   "id": "bee480c0",
   "metadata": {},
   "outputs": [],
   "source": [
    "from gensim.models import Word2Vec\n",
    "from gensim.models import KeyedVectors\n",
    "import json\n",
    "from tqdm import tqdm\n",
    "import numpy as np\n",
    "import matplotlib.pyplot as plt\n",
    "import math"
   ]
  },
  {
   "cell_type": "code",
   "execution_count": null,
   "id": "bc5191de",
   "metadata": {},
   "outputs": [],
   "source": [
    "file_path = \"./dataset/spotify_dataset.json\"\n",
    "\n",
    "with open(file_path, 'r') as file:\n",
    "    data = json.load(file)"
   ]
  },
  {
   "cell_type": "code",
   "execution_count": null,
   "id": "76dc32f9",
   "metadata": {},
   "outputs": [],
   "source": [
    "# 장르만 모인 리스트\n",
    "genres_array = []\n",
    "for idx, d in enumerate(data):\n",
    "    if 'genres' in d:\n",
    "        if len(d['genres']) != 0:\n",
    "            for genre in d['genres']:\n",
    "                genres_array.append(genre)\n",
    "\n",
    "# 중복 제거\n",
    "genres_array = list(set(genres_array))"
   ]
  },
  {
   "cell_type": "code",
   "execution_count": null,
   "id": "d5a6f3c7",
   "metadata": {},
   "outputs": [],
   "source": [
    "genre_artists_json = []\n",
    "\n",
    "for genre in tqdm(genres_array):\n",
    "    artists_array = []\n",
    "    \n",
    "    for d in data:\n",
    "        if 'genres' in d:\n",
    "            if genre in d['genres']:\n",
    "                artists_array.append([d['artist_name'], d['popularity'], d['artist_id']])\n",
    "    \n",
    "    artists_array = list(set(artists_array))\n",
    "    artists_array.sort(key=lambda x:-x[1])\n",
    "    \n",
    "    genre_artists = {\n",
    "        'genre' : genre,\n",
    "        'count' : len(artists_array),\n",
    "        'artists' : artists_array\n",
    "    }\n",
    "    \n",
    "    genre_artists_json.append(genre_artists)"
   ]
  },
  {
   "cell_type": "code",
   "execution_count": null,
   "id": "2eb8b6b6",
   "metadata": {},
   "outputs": [],
   "source": [
    "# json 파일 저장\n",
    "with open(\"./genre_artists.json\", \"w\") as new_file:\n",
    "    json.dump(genre_artists_json, new_file)"
   ]
  },
  {
   "cell_type": "code",
   "execution_count": null,
   "id": "a9b1738f",
   "metadata": {},
   "outputs": [],
   "source": [
    "artists_length = []\n",
    "for genres in genre_artists_json:\n",
    "    artists_length.append(len(genres['artists']))"
   ]
  },
  {
   "cell_type": "code",
   "execution_count": null,
   "id": "8b2edc84",
   "metadata": {},
   "outputs": [],
   "source": [
    "# 장르별 아티스트 수 전체 히스토그램\n",
    "plt.hist(artists_length, bins=100)\n",
    "plt.show()"
   ]
  },
  {
   "cell_type": "code",
   "execution_count": null,
   "id": "f080e2ef",
   "metadata": {},
   "outputs": [],
   "source": [
    "max(artists_length)"
   ]
  },
  {
   "cell_type": "code",
   "execution_count": null,
   "id": "c3410afe",
   "metadata": {},
   "outputs": [],
   "source": [
    "# 아티스트가 50명 이하인 장르의 히스토그램\n",
    "tmp_arr = []\n",
    "for num in artists_length:\n",
    "    if num <= 50:\n",
    "        tmp_arr.append(num)\n",
    "plt.hist(tmp_arr, bins=49)\n",
    "plt.show()"
   ]
  },
  {
   "cell_type": "code",
   "execution_count": null,
   "id": "d75aab08",
   "metadata": {},
   "outputs": [],
   "source": [
    "# 아티스트가 50명 이상인 장르의 히스토그램\n",
    "tmp_arr = []\n",
    "for num in artists_length:\n",
    "    if num >= 50:\n",
    "        tmp_arr.append(num)\n",
    "plt.hist(tmp_arr, bins=100)\n",
    "plt.show()"
   ]
  }
 ],
 "metadata": {
  "kernelspec": {
   "display_name": "Python 3 (ipykernel)",
   "language": "python",
   "name": "python3"
  },
  "language_info": {
   "codemirror_mode": {
    "name": "ipython",
    "version": 3
   },
   "file_extension": ".py",
   "mimetype": "text/x-python",
   "name": "python",
   "nbconvert_exporter": "python",
   "pygments_lexer": "ipython3",
   "version": "3.9.0"
  }
 },
 "nbformat": 4,
 "nbformat_minor": 5
}
